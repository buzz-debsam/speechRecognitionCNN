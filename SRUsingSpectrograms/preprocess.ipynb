{
 "cells": [
  {
   "cell_type": "code",
   "execution_count": 1,
   "metadata": {},
   "outputs": [],
   "source": [
    "import pandas as pd\n",
    "import numpy as np\n",
    "import glob\n",
    "import scipy\n",
    "import matplotlib.pyplot as plt\n",
    "import re\n",
    "import os"
   ]
  },
  {
   "cell_type": "code",
   "execution_count": 2,
   "metadata": {},
   "outputs": [],
   "source": [
    "POSSIBLE_LABELS = 'yes no up down left right on off stop go unknown silence'.split()\n",
    "id2name = {i: name for i, name in enumerate(POSSIBLE_LABELS)}\n",
    "name2id = {name: i for i, name in id2name.items()}"
   ]
  },
  {
   "cell_type": "code",
   "execution_count": 3,
   "metadata": {},
   "outputs": [],
   "source": [
    "def load_data(data_dir):\n",
    "    \"\"\" Return 2 lists of tuples:\n",
    "    [(class_id, user_id, path), ...] for train\n",
    "    [(class_id, user_id, path), ...] for validation\n",
    "    \"\"\"\n",
    "    # Just a simple regexp for paths with three groups:\n",
    "    # prefix, label, user_id\n",
    "    pattern = re.compile(\"(.+\\/)?(\\w+)\\/([^_]+)_.+wav\")\n",
    "    all_files = []\n",
    "    for names in os.listdir('./train/audio'):\n",
    "        for files in os.listdir(os.path.join('./train/audio',names)):\n",
    "            all_files.append('train/audio/' + names + '/' + files)\n",
    "            \n",
    "    with open(os.path.join(data_dir, 'train/validation_list.txt'), 'r') as fin:\n",
    "        validation_files = fin.readlines()\n",
    "    valset = set()\n",
    "    \n",
    "    for entry in validation_files:\n",
    "        r = re.match(pattern, entry)\n",
    "        if r:\n",
    "            valset.add(r.group(3))\n",
    "            \n",
    "    possible = set(POSSIBLE_LABELS)\n",
    "    train, val = [], []\n",
    "    for entry in all_files:\n",
    "        r = re.match(pattern, entry)\n",
    "        if r:\n",
    "            label, uid = r.group(2), r.group(3)\n",
    "            if label == '_background_noise_':\n",
    "                label = 'silence'\n",
    "            if label not in possible:\n",
    "                label = 'unknown'\n",
    "\n",
    "            label_id = name2id[label]\n",
    "\n",
    "            sample = (label, label_id, uid, entry)\n",
    "            if uid in valset:\n",
    "                val.append(sample)\n",
    "            else:\n",
    "                train.append(sample)\n",
    "\n",
    "    print('There are {} train and {} val samples'.format(len(train), len(val)))\n",
    "    \n",
    "    columns_list = ['label', 'label_id', 'user_id', 'wav_file']\n",
    "    \n",
    "    train_df = pd.DataFrame(train, columns = columns_list)\n",
    "    valid_df = pd.DataFrame(val, columns = columns_list)\n",
    "    \n",
    "    return train_df, valid_df"
   ]
  },
  {
   "cell_type": "code",
   "execution_count": 4,
   "metadata": {
    "scrolled": true
   },
   "outputs": [
    {
     "name": "stdout",
     "output_type": "stream",
     "text": [
      "C:\\Users\\cc\\Desktop\\Project\n"
     ]
    }
   ],
   "source": [
    "data_dir = os.getcwd()\n",
    "print(data_dir)"
   ]
  },
  {
   "cell_type": "code",
   "execution_count": 5,
   "metadata": {},
   "outputs": [
    {
     "name": "stdout",
     "output_type": "stream",
     "text": [
      "There are 57929 train and 6798 val samples\n"
     ]
    }
   ],
   "source": [
    "train_df, valid_df = load_data(data_dir)"
   ]
  },
  {
   "cell_type": "code",
   "execution_count": 6,
   "metadata": {},
   "outputs": [],
   "source": [
    "pd.to_pickle(valid_df, 'valid_df.pkl')"
   ]
  },
  {
   "cell_type": "code",
   "execution_count": 7,
   "metadata": {},
   "outputs": [],
   "source": [
    "from scipy.io import wavfile"
   ]
  },
  {
   "cell_type": "code",
   "execution_count": 8,
   "metadata": {},
   "outputs": [],
   "source": [
    "word_data = np.array(train_df[train_df.label_id != 11].wav_file.apply(wavfile.read))"
   ]
  },
  {
   "cell_type": "code",
   "execution_count": 9,
   "metadata": {},
   "outputs": [
    {
     "data": {
      "text/plain": [
       "(57923,)"
      ]
     },
     "execution_count": 9,
     "metadata": {},
     "output_type": "execute_result"
    }
   ],
   "source": [
    "word_data2 = [sr_wav[1] for sr_wav in word_data]\n",
    "word_data2 = np.array(word_data2)\n",
    "word_data2.shape"
   ]
  },
  {
   "cell_type": "code",
   "execution_count": 10,
   "metadata": {},
   "outputs": [
    {
     "data": {
      "text/plain": [
       "(57923, 4)"
      ]
     },
     "execution_count": 10,
     "metadata": {},
     "output_type": "execute_result"
    }
   ],
   "source": [
    "train_df = train_df[train_df.label_id != 11]\n",
    "train_df.shape"
   ]
  },
  {
   "cell_type": "code",
   "execution_count": 11,
   "metadata": {
    "scrolled": true
   },
   "outputs": [
    {
     "data": {
      "text/plain": [
       "57923"
      ]
     },
     "execution_count": 11,
     "metadata": {},
     "output_type": "execute_result"
    }
   ],
   "source": [
    "all_sounds = list(word_data2)\n",
    "len(all_sounds)"
   ]
  },
  {
   "cell_type": "code",
   "execution_count": 12,
   "metadata": {},
   "outputs": [
    {
     "data": {
      "text/plain": [
       "unknown    36818\n",
       "stop        2134\n",
       "yes         2116\n",
       "up          2115\n",
       "go          2112\n",
       "right       2111\n",
       "on          2110\n",
       "left        2106\n",
       "no          2105\n",
       "off         2101\n",
       "down        2095\n",
       "Name: label, dtype: int64"
      ]
     },
     "execution_count": 12,
     "metadata": {},
     "output_type": "execute_result"
    }
   ],
   "source": [
    "train_df['sound'] = all_sounds\n",
    "train_df.to_pickle('train_df.pkl')\n",
    "train_df.label.value_counts()"
   ]
  },
  {
   "cell_type": "code",
   "execution_count": 13,
   "metadata": {},
   "outputs": [
    {
     "data": {
      "text/html": [
       "<div>\n",
       "<style scoped>\n",
       "    .dataframe tbody tr th:only-of-type {\n",
       "        vertical-align: middle;\n",
       "    }\n",
       "\n",
       "    .dataframe tbody tr th {\n",
       "        vertical-align: top;\n",
       "    }\n",
       "\n",
       "    .dataframe thead th {\n",
       "        text-align: right;\n",
       "    }\n",
       "</style>\n",
       "<table border=\"1\" class=\"dataframe\">\n",
       "  <thead>\n",
       "    <tr style=\"text-align: right;\">\n",
       "      <th></th>\n",
       "      <th>label</th>\n",
       "      <th>label_id</th>\n",
       "      <th>user_id</th>\n",
       "      <th>wav_file</th>\n",
       "      <th>sound</th>\n",
       "    </tr>\n",
       "  </thead>\n",
       "  <tbody>\n",
       "    <tr>\n",
       "      <th>0</th>\n",
       "      <td>unknown</td>\n",
       "      <td>10</td>\n",
       "      <td>00176480</td>\n",
       "      <td>train/audio/bed/00176480_nohash_0.wav</td>\n",
       "      <td>[3, 1, 6, 6, -1, 1, 8, 3, -3, -2, 3, 9, 4, -9,...</td>\n",
       "    </tr>\n",
       "    <tr>\n",
       "      <th>1</th>\n",
       "      <td>unknown</td>\n",
       "      <td>10</td>\n",
       "      <td>004ae714</td>\n",
       "      <td>train/audio/bed/004ae714_nohash_0.wav</td>\n",
       "      <td>[-109, -149, -144, -110, -120, -137, -132, -87...</td>\n",
       "    </tr>\n",
       "    <tr>\n",
       "      <th>2</th>\n",
       "      <td>unknown</td>\n",
       "      <td>10</td>\n",
       "      <td>004ae714</td>\n",
       "      <td>train/audio/bed/004ae714_nohash_1.wav</td>\n",
       "      <td>[-82, -69, -57, -92, -75, -107, -122, -121, -1...</td>\n",
       "    </tr>\n",
       "    <tr>\n",
       "      <th>3</th>\n",
       "      <td>unknown</td>\n",
       "      <td>10</td>\n",
       "      <td>00f0204f</td>\n",
       "      <td>train/audio/bed/00f0204f_nohash_0.wav</td>\n",
       "      <td>[-8, -11, -11, -12, -20, -26, -22, -29, -39, -...</td>\n",
       "    </tr>\n",
       "    <tr>\n",
       "      <th>4</th>\n",
       "      <td>unknown</td>\n",
       "      <td>10</td>\n",
       "      <td>00f0204f</td>\n",
       "      <td>train/audio/bed/00f0204f_nohash_1.wav</td>\n",
       "      <td>[-12, -15, -15, -23, -22, -24, -22, -24, -25, ...</td>\n",
       "    </tr>\n",
       "    <tr>\n",
       "      <th>5</th>\n",
       "      <td>unknown</td>\n",
       "      <td>10</td>\n",
       "      <td>012c8314</td>\n",
       "      <td>train/audio/bed/012c8314_nohash_0.wav</td>\n",
       "      <td>[218, 239, 212, 263, 282, 234, 276, 260, 233, ...</td>\n",
       "    </tr>\n",
       "    <tr>\n",
       "      <th>6</th>\n",
       "      <td>unknown</td>\n",
       "      <td>10</td>\n",
       "      <td>012c8314</td>\n",
       "      <td>train/audio/bed/012c8314_nohash_1.wav</td>\n",
       "      <td>[269, 327, 377, 414, 361, 378, 396, 344, 308, ...</td>\n",
       "    </tr>\n",
       "    <tr>\n",
       "      <th>7</th>\n",
       "      <td>unknown</td>\n",
       "      <td>10</td>\n",
       "      <td>0132a06d</td>\n",
       "      <td>train/audio/bed/0132a06d_nohash_0.wav</td>\n",
       "      <td>[-3, -5, -4, -3, -1, 0, 2, 5, 7, 5, 4, 6, 3, 1...</td>\n",
       "    </tr>\n",
       "    <tr>\n",
       "      <th>8</th>\n",
       "      <td>unknown</td>\n",
       "      <td>10</td>\n",
       "      <td>0135f3f2</td>\n",
       "      <td>train/audio/bed/0135f3f2_nohash_0.wav</td>\n",
       "      <td>[2, 1, 0, 0, 0, 0, 0, 0, -1, 0, 0, 1, 2, 1, 2,...</td>\n",
       "    </tr>\n",
       "    <tr>\n",
       "      <th>9</th>\n",
       "      <td>unknown</td>\n",
       "      <td>10</td>\n",
       "      <td>0137b3f4</td>\n",
       "      <td>train/audio/bed/0137b3f4_nohash_0.wav</td>\n",
       "      <td>[-1, -1, -1, -1, -1, -1, -1, -1, -1, -1, -1, -...</td>\n",
       "    </tr>\n",
       "  </tbody>\n",
       "</table>\n",
       "</div>"
      ],
      "text/plain": [
       "     label  label_id   user_id                               wav_file  \\\n",
       "0  unknown        10  00176480  train/audio/bed/00176480_nohash_0.wav   \n",
       "1  unknown        10  004ae714  train/audio/bed/004ae714_nohash_0.wav   \n",
       "2  unknown        10  004ae714  train/audio/bed/004ae714_nohash_1.wav   \n",
       "3  unknown        10  00f0204f  train/audio/bed/00f0204f_nohash_0.wav   \n",
       "4  unknown        10  00f0204f  train/audio/bed/00f0204f_nohash_1.wav   \n",
       "5  unknown        10  012c8314  train/audio/bed/012c8314_nohash_0.wav   \n",
       "6  unknown        10  012c8314  train/audio/bed/012c8314_nohash_1.wav   \n",
       "7  unknown        10  0132a06d  train/audio/bed/0132a06d_nohash_0.wav   \n",
       "8  unknown        10  0135f3f2  train/audio/bed/0135f3f2_nohash_0.wav   \n",
       "9  unknown        10  0137b3f4  train/audio/bed/0137b3f4_nohash_0.wav   \n",
       "\n",
       "                                               sound  \n",
       "0  [3, 1, 6, 6, -1, 1, 8, 3, -3, -2, 3, 9, 4, -9,...  \n",
       "1  [-109, -149, -144, -110, -120, -137, -132, -87...  \n",
       "2  [-82, -69, -57, -92, -75, -107, -122, -121, -1...  \n",
       "3  [-8, -11, -11, -12, -20, -26, -22, -29, -39, -...  \n",
       "4  [-12, -15, -15, -23, -22, -24, -22, -24, -25, ...  \n",
       "5  [218, 239, 212, 263, 282, 234, 276, 260, 233, ...  \n",
       "6  [269, 327, 377, 414, 361, 378, 396, 344, 308, ...  \n",
       "7  [-3, -5, -4, -3, -1, 0, 2, 5, 7, 5, 4, 6, 3, 1...  \n",
       "8  [2, 1, 0, 0, 0, 0, 0, 0, -1, 0, 0, 1, 2, 1, 2,...  \n",
       "9  [-1, -1, -1, -1, -1, -1, -1, -1, -1, -1, -1, -...  "
      ]
     },
     "execution_count": 13,
     "metadata": {},
     "output_type": "execute_result"
    }
   ],
   "source": [
    "train_df.head(10)"
   ]
  }
 ],
 "metadata": {
  "kernelspec": {
   "display_name": "Python 3",
   "language": "python",
   "name": "python3"
  },
  "language_info": {
   "codemirror_mode": {
    "name": "ipython",
    "version": 3
   },
   "file_extension": ".py",
   "mimetype": "text/x-python",
   "name": "python",
   "nbconvert_exporter": "python",
   "pygments_lexer": "ipython3",
   "version": "3.6.5"
  }
 },
 "nbformat": 4,
 "nbformat_minor": 2
}
