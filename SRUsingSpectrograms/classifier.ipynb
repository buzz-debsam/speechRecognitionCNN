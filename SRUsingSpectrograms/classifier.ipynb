{
 "cells": [
  {
   "cell_type": "code",
   "execution_count": 1,
   "metadata": {},
   "outputs": [],
   "source": [
    "import pandas as pd\n",
    "import numpy as np\n",
    "import glob\n",
    "import scipy\n",
    "import matplotlib.pyplot as plt\n",
    "import re\n",
    "import os\n",
    "import librosa\n",
    "import IPython.display as ipd\n",
    "import librosa.display"
   ]
  },
  {
   "cell_type": "code",
   "execution_count": 2,
   "metadata": {},
   "outputs": [],
   "source": [
    "POSSIBLE_LABELS = 'yes no up down left right on off stop go unknown silence'.split()\n",
    "id2name = {i: name for i, name in enumerate(POSSIBLE_LABELS)}\n",
    "name2id = {name: i for i, name in id2name.items()}"
   ]
  },
  {
   "cell_type": "code",
   "execution_count": 3,
   "metadata": {},
   "outputs": [],
   "source": [
    "train_df = pd.read_pickle('train_df.pkl')"
   ]
  },
  {
   "cell_type": "code",
   "execution_count": 3,
   "metadata": {},
   "outputs": [],
   "source": [
    "valid_df = pd.read_pickle('valid_df.pkl')"
   ]
  },
  {
   "cell_type": "raw",
   "metadata": {},
   "source": [
    "#not required anymore\n",
    "\n",
    "def resize_wavs(x):\n",
    "    length = len(x)\n",
    "    if length < 16000:\n",
    "        diff = 16000-length\n",
    "        ind = np.random.randint(0, diff)\n",
    "        x = np.pad(x, (ind, 16000-(ind+length)), \"constant\")\n",
    "    elif length > 16000:\n",
    "        x = x[:16000]\n",
    "    return x"
   ]
  },
  {
   "cell_type": "code",
   "execution_count": 7,
   "metadata": {},
   "outputs": [],
   "source": [
    "train_df[\"sound2\"] = train_df.sound.apply(resize_wavs)"
   ]
  },
  {
   "cell_type": "code",
   "execution_count": 8,
   "metadata": {},
   "outputs": [
    {
     "data": {
      "text/html": [
       "<div>\n",
       "<style scoped>\n",
       "    .dataframe tbody tr th:only-of-type {\n",
       "        vertical-align: middle;\n",
       "    }\n",
       "\n",
       "    .dataframe tbody tr th {\n",
       "        vertical-align: top;\n",
       "    }\n",
       "\n",
       "    .dataframe thead th {\n",
       "        text-align: right;\n",
       "    }\n",
       "</style>\n",
       "<table border=\"1\" class=\"dataframe\">\n",
       "  <thead>\n",
       "    <tr style=\"text-align: right;\">\n",
       "      <th></th>\n",
       "      <th>label</th>\n",
       "      <th>label_id</th>\n",
       "      <th>user_id</th>\n",
       "      <th>wav_file</th>\n",
       "      <th>sound</th>\n",
       "      <th>sound2</th>\n",
       "    </tr>\n",
       "  </thead>\n",
       "  <tbody>\n",
       "    <tr>\n",
       "      <th>0</th>\n",
       "      <td>unknown</td>\n",
       "      <td>10</td>\n",
       "      <td>00176480</td>\n",
       "      <td>train/audio/bed/00176480_nohash_0.wav</td>\n",
       "      <td>[3, 1, 6, 6, -1, 1, 8, 3, -3, -2, 3, 9, 4, -9,...</td>\n",
       "      <td>[3, 1, 6, 6, -1, 1, 8, 3, -3, -2, 3, 9, 4, -9,...</td>\n",
       "    </tr>\n",
       "  </tbody>\n",
       "</table>\n",
       "</div>"
      ],
      "text/plain": [
       "     label  label_id   user_id                               wav_file  \\\n",
       "0  unknown        10  00176480  train/audio/bed/00176480_nohash_0.wav   \n",
       "\n",
       "                                               sound  \\\n",
       "0  [3, 1, 6, 6, -1, 1, 8, 3, -3, -2, 3, 9, 4, -9,...   \n",
       "\n",
       "                                              sound2  \n",
       "0  [3, 1, 6, 6, -1, 1, 8, 3, -3, -2, 3, 9, 4, -9,...  "
      ]
     },
     "execution_count": 8,
     "metadata": {},
     "output_type": "execute_result"
    }
   ],
   "source": [
    "train_df.head(1)"
   ]
  },
  {
   "cell_type": "code",
   "execution_count": 9,
   "metadata": {},
   "outputs": [],
   "source": [
    "sound2 = list(train_df.sound2)\n",
    "label_id = list(train_df.label_id)"
   ]
  },
  {
   "cell_type": "code",
   "execution_count": 4,
   "metadata": {},
   "outputs": [],
   "source": [
    "from scipy.io import wavfile"
   ]
  },
  {
   "cell_type": "code",
   "execution_count": 5,
   "metadata": {},
   "outputs": [],
   "source": [
    "def wav2spec_val(X, max_len = 16000, n_mels = 128):\n",
    "    \"\"\"Turns audio into a spectrogram, used on validation data\"\"\"\n",
    "    x_spec = np.zeros((len(X), n_mels, 32, 1))\n",
    "    for i, fn in enumerate(X):\n",
    "        _, wave = scipy.io.wavfile.read(fn)\n",
    "        wave = wave[:max_len]\n",
    "        wave = np.pad(wave, (0, max_len-wave.shape[0]), 'constant')\n",
    "        # scales data from -1 to 1\n",
    "        wave = wave / np.max([np.max(abs(wave)), 0.00001])\n",
    "        S = librosa.feature.melspectrogram(wave, sr=16000, n_mels=n_mels)\n",
    "        log_S = librosa.power_to_db(S, ref=np.max)\n",
    "        x_spec[i,:,:,0] = log_S\n",
    "    return x_spec"
   ]
  },
  {
   "cell_type": "code",
   "execution_count": 6,
   "metadata": {},
   "outputs": [],
   "source": [
    "def wav2spec_train(X, max_len = 16000, n_mels = 128):\n",
    "    \"\"\"Turns audio into a spectrogram, used on training data\"\"\"\n",
    "    x_spec = np.zeros((len(X), n_mels, 32, 1))\n",
    "    for i, wave in enumerate(X):\n",
    "        wave = wave[:max_len]\n",
    "        wave = np.pad(wave, (0, max_len-wave.shape[0]), 'constant')\n",
    "        # scales data from -1 to 1\n",
    "        wave = wave / np.max([np.max(abs(wave)), 0.00001])\n",
    "        S = librosa.feature.melspectrogram(wave, sr=16000, n_mels=n_mels)\n",
    "        log_S = librosa.power_to_db(S, ref=np.max)\n",
    "        x_spec[i,:,:,0] = log_S\n",
    "    return x_spec"
   ]
  },
  {
   "cell_type": "code",
   "execution_count": 28,
   "metadata": {},
   "outputs": [
    {
     "ename": "NameError",
     "evalue": "name 'sound2' is not defined",
     "output_type": "error",
     "traceback": [
      "\u001b[1;31m---------------------------------------------------------------------------\u001b[0m",
      "\u001b[1;31mNameError\u001b[0m                                 Traceback (most recent call last)",
      "\u001b[1;32m<ipython-input-28-c891b97a60ae>\u001b[0m in \u001b[0;36m<module>\u001b[1;34m\u001b[0m\n\u001b[1;32m----> 1\u001b[1;33m \u001b[0mx_train_vec\u001b[0m \u001b[1;33m=\u001b[0m \u001b[0mwav2spec_train\u001b[0m\u001b[1;33m(\u001b[0m\u001b[0msound2\u001b[0m\u001b[1;33m)\u001b[0m\u001b[1;33m\u001b[0m\u001b[1;33m\u001b[0m\u001b[0m\n\u001b[0m\u001b[0;32m      2\u001b[0m \u001b[0mx_val_vec\u001b[0m \u001b[1;33m=\u001b[0m \u001b[0mwav2spec_val\u001b[0m\u001b[1;33m(\u001b[0m\u001b[0mvalid_df\u001b[0m\u001b[1;33m.\u001b[0m\u001b[0mwav_file\u001b[0m\u001b[1;33m)\u001b[0m\u001b[1;33m\u001b[0m\u001b[1;33m\u001b[0m\u001b[0m\n",
      "\u001b[1;31mNameError\u001b[0m: name 'sound2' is not defined"
     ]
    }
   ],
   "source": [
    "x_train_vec = wav2spec_train(sound2)\n",
    "x_val_vec = wav2spec_val(valid_df.wav_file)"
   ]
  },
  {
   "cell_type": "code",
   "execution_count": null,
   "metadata": {},
   "outputs": [],
   "source": [
    "x_train_vec.shape"
   ]
  },
  {
   "cell_type": "code",
   "execution_count": null,
   "metadata": {},
   "outputs": [],
   "source": [
    "y_train_vec = np.array(label_id)\n",
    "y_val_vec = valid_df.label_id.as_matrix()"
   ]
  },
  {
   "cell_type": "code",
   "execution_count": null,
   "metadata": {},
   "outputs": [],
   "source": [
    "y_val_vec.shape"
   ]
  },
  {
   "cell_type": "code",
   "execution_count": 7,
   "metadata": {},
   "outputs": [],
   "source": [
    "x_train_vec = np.load('x_train_vec.npy')\n",
    "y_train_vec = np.load('y_train_vec.npy')"
   ]
  },
  {
   "cell_type": "code",
   "execution_count": 8,
   "metadata": {},
   "outputs": [
    {
     "data": {
      "text/plain": [
       "(57923, 128, 32, 1)"
      ]
     },
     "execution_count": 8,
     "metadata": {},
     "output_type": "execute_result"
    }
   ],
   "source": [
    "x_train_vec.shape"
   ]
  },
  {
   "cell_type": "code",
   "execution_count": null,
   "metadata": {},
   "outputs": [],
   "source": [
    "x_val_vec = wav2spec_val(valid_df.wav_file)\n",
    "y_val_vec = valid_df.label_id.as_matrix()"
   ]
  },
  {
   "cell_type": "code",
   "execution_count": 11,
   "metadata": {},
   "outputs": [
    {
     "data": {
      "text/plain": [
       "<matplotlib.image.AxesImage at 0x2b452b6b2e8>"
      ]
     },
     "execution_count": 11,
     "metadata": {},
     "output_type": "execute_result"
    },
    {
     "data": {
      "image/png": "[encoded data removed]",
      "text/plain": [
       "<Figure size 216x216 with 1 Axes>"
      ]
     },
     "metadata": {
      "needs_background": "light"
     },
     "output_type": "display_data"
    }
   ],
   "source": [
    "plt.figure(figsize=(3,3))\n",
    "plt.imshow(x_train_vec[57922,:,:,0], aspect=\"auto\", origin=\"lower\")"
   ]
  },
  {
   "cell_type": "code",
   "execution_count": null,
   "metadata": {},
   "outputs": [],
   "source": [
    "np.save('x_train_vec.npy', x_train_vec)"
   ]
  },
  {
   "cell_type": "code",
   "execution_count": null,
   "metadata": {},
   "outputs": [],
   "source": [
    "np.save('y_train_vec.npy', y_train_vec)"
   ]
  },
  {
   "cell_type": "code",
   "execution_count": null,
   "metadata": {},
   "outputs": [],
   "source": [
    "ind, counts = np.unique(y_train_vec, return_counts=True)"
   ]
  },
  {
   "cell_type": "code",
   "execution_count": null,
   "metadata": {},
   "outputs": [],
   "source": [
    "class_weight = {i: count for i, count in zip(ind, counts)}"
   ]
  },
  {
   "cell_type": "code",
   "execution_count": null,
   "metadata": {},
   "outputs": [],
   "source": [
    "class_weight = {ind: len(x_train_vec)/val for ind, val in class_weight.items()}"
   ]
  },
  {
   "cell_type": "code",
   "execution_count": null,
   "metadata": {},
   "outputs": [],
   "source": [
    "import keras\n",
    "import keras.backend as K"
   ]
  },
  {
   "cell_type": "code",
   "execution_count": null,
   "metadata": {},
   "outputs": [],
   "source": [
    "num_labels = 11"
   ]
  },
  {
   "cell_type": "code",
   "execution_count": 32,
   "metadata": {},
   "outputs": [
    {
     "data": {
      "text/plain": [
       "(128, 32, 1)"
      ]
     },
     "execution_count": 32,
     "metadata": {},
     "output_type": "execute_result"
    }
   ],
   "source": [
    "x_train_vec[0].shape"
   ]
  },
  {
   "cell_type": "code",
   "execution_count": null,
   "metadata": {},
   "outputs": [],
   "source": [
    "model = keras.Sequential([\n",
    "    keras.layers.InputLayer(input_shape=(128,32,1)),\n",
    "    keras.layers.Conv2D(64, kernel_size=(20,8), strides=1, padding='same', activation='relu'),\n",
    "    keras.layers.MaxPool2D(pool_size=(2,2), padding='same'),\n",
    "    keras.layers.BatchNormalization(),\n",
    "    keras.layers.Conv2D(64, kernel_size=(10,4), padding='same', activation='relu'),\n",
    "    keras.layers.MaxPool2D(pool_size=(2,2), padding='same'),\n",
    "    keras.layers.BatchNormalization(),\n",
    "    keras.layers.Conv2D(64, kernel_size=(5,2), padding='same', activation='relu'),\n",
    "    keras.layers.MaxPool2D(pool_size=(2,2), padding='same'),\n",
    "    keras.layers.BatchNormalization(),\n",
    "    keras.layers.Conv2D(64, kernel_size=(2,2), padding='same', activation='relu'),\n",
    "    keras.layers.MaxPool2D(pool_size=(2,2), padding='same'),\n",
    "    keras.layers.BatchNormalization(),\n",
    "    keras.layers.Conv2D(64, kernel_size=(2,1), padding='same', activation='relu'),\n",
    "    keras.layers.MaxPool2D(pool_size=(2,2), padding='same'),\n",
    "    keras.layers.BatchNormalization(),\n",
    "    keras.layers.Flatten(),\n",
    "    keras.layers.Dense(500, activation=\"relu\"),\n",
    "    keras.layers.Dropout(.5),\n",
    "    keras.layers.Dense(250, activation=\"relu\"),\n",
    "    keras.layers.Dropout(.4),\n",
    "    keras.layers.Dense(num_labels, activation=\"softmax\")\n",
    "])\n",
    "\n",
    "model.compile(loss='sparse_categorical_crossentropy', \n",
    "               optimizer='nadam',\n",
    "               metrics=['accuracy'])\n",
    "print(model.summary())"
   ]
  },
  {
   "cell_type": "code",
   "execution_count": 6,
   "metadata": {},
   "outputs": [],
   "source": [
    "from tensorflow.python.keras.callbacks import EarlyStopping"
   ]
  },
  {
   "cell_type": "code",
   "execution_count": 7,
   "metadata": {},
   "outputs": [],
   "source": [
    "callbacks = [EarlyStopping(monitor='val_loss',\n",
    "                           patience=5,\n",
    "                           verbose=1,\n",
    "                           min_delta=0.01,\n",
    "                           mode='min')]"
   ]
  },
  {
   "cell_type": "code",
   "execution_count": 21,
   "metadata": {
    "scrolled": true
   },
   "outputs": [
    {
     "name": "stderr",
     "output_type": "stream",
     "text": [
      "W1130 20:55:39.788097  5612 deprecation.py:323] From C:\\ProgramData\\Anaconda3\\lib\\site-packages\\tensorflow\\python\\ops\\math_grad.py:1250: add_dispatch_support.<locals>.wrapper (from tensorflow.python.ops.array_ops) is deprecated and will be removed in a future version.\n",
      "Instructions for updating:\n",
      "Use tf.where in 2.0, which has the same broadcast rule as np.where\n"
     ]
    },
    {
     "name": "stdout",
     "output_type": "stream",
     "text": [
      "Train on 57923 samples, validate on 6798 samples\n",
      "Epoch 1/5\n",
      "57923/57923 [==============================] - 2408s 42ms/step - loss: 13.5118 - acc: 0.4263 - val_loss: 1.1725 - val_acc: 0.6677\n",
      "Epoch 2/5\n",
      "57923/57923 [==============================] - 2414s 42ms/step - loss: 5.6398 - acc: 0.7150 - val_loss: 0.6990 - val_acc: 0.7695\n",
      "Epoch 3/5\n",
      "57923/57923 [==============================] - 2413s 42ms/step - loss: 4.1055 - acc: 0.7947 - val_loss: 2.7617 - val_acc: 0.2117\n",
      "Epoch 4/5\n",
      "57923/57923 [==============================] - 2468s 43ms/step - loss: 4.2534 - acc: 0.8007 - val_loss: 0.4838 - val_acc: 0.8450\n",
      "Epoch 5/5\n",
      "57923/57923 [==============================] - 2655s 46ms/step - loss: 2.8150 - acc: 0.8627 - val_loss: 0.5152 - val_acc: 0.8304\n"
     ]
    }
   ],
   "source": [
    "history = model.fit(x_train_vec, y_train_vec,\n",
    "                              batch_size = 512,\n",
    "                              epochs=5,\n",
    "                              verbose=1, \n",
    "                              callbacks=callbacks,\n",
    "                              validation_data=(x_val_vec, y_val_vec),\n",
    "                              class_weight = class_weight)"
   ]
  },
  {
   "cell_type": "code",
   "execution_count": 22,
   "metadata": {},
   "outputs": [
    {
     "name": "stdout",
     "output_type": "stream",
     "text": [
      "0 <keras.layers.convolutional.Conv2D object at 0x000002B4299C7A20>\n",
      "1 <keras.layers.pooling.MaxPooling2D object at 0x000002B4299C7630>\n",
      "2 <keras.layers.normalization.BatchNormalization object at 0x000002B4299C7748>\n",
      "3 <keras.layers.convolutional.Conv2D object at 0x000002B4299C7C50>\n",
      "4 <keras.layers.pooling.MaxPooling2D object at 0x000002B4299C7B70>\n",
      "5 <keras.layers.normalization.BatchNormalization object at 0x000002B4299C7D30>\n",
      "6 <keras.layers.convolutional.Conv2D object at 0x000002B4299C7FD0>\n",
      "7 <keras.layers.pooling.MaxPooling2D object at 0x000002B4299D10F0>\n",
      "8 <keras.layers.normalization.BatchNormalization object at 0x000002B4299D12E8>\n",
      "9 <keras.layers.convolutional.Conv2D object at 0x000002B4299D1400>\n",
      "10 <keras.layers.pooling.MaxPooling2D object at 0x000002B4299D1588>\n",
      "11 <keras.layers.normalization.BatchNormalization object at 0x000002B4299D1630>\n",
      "12 <keras.layers.convolutional.Conv2D object at 0x000002B4299D1748>\n",
      "13 <keras.layers.pooling.MaxPooling2D object at 0x000002B4299D18D0>\n",
      "14 <keras.layers.normalization.BatchNormalization object at 0x000002B4299D1978>\n",
      "15 <keras.layers.core.Flatten object at 0x000002B4299D1A90>\n",
      "16 <keras.layers.core.Dense object at 0x000002B4299D1B00>\n",
      "17 <keras.layers.core.Dropout object at 0x000002B4299D1C88>\n",
      "18 <keras.layers.core.Dense object at 0x000002B4299D1CC0>\n",
      "19 <keras.layers.core.Dropout object at 0x000002B4299D1E48>\n",
      "20 <keras.layers.core.Dense object at 0x000002B4299D1E80>\n"
     ]
    }
   ],
   "source": [
    "for l in range(len(model.layers)):\n",
    "    print(l, model.layers[l])"
   ]
  },
  {
   "cell_type": "code",
   "execution_count": 24,
   "metadata": {},
   "outputs": [],
   "source": [
    "model.save('cnn_spectogram.h5')"
   ]
  },
  {
   "cell_type": "code",
   "execution_count": 16,
   "metadata": {},
   "outputs": [],
   "source": [
    "from keras.models import load_model\n",
    "model.load_weights('cnn_spectogram.h5')"
   ]
  },
  {
   "cell_type": "code",
   "execution_count": 17,
   "metadata": {},
   "outputs": [],
   "source": [
    "import pandas as pd\n",
    "import seaborn as sn\n",
    "import matplotlib.pyplot as plt\n",
    "from sklearn.metrics import confusion_matrix"
   ]
  },
  {
   "cell_type": "code",
   "execution_count": 18,
   "metadata": {},
   "outputs": [],
   "source": [
    "def print_cmx (y_true, y_pred):\n",
    "    labels = sorted(list(set(y_true)))\n",
    "    cmx_data = confusion_matrix(y_true, y_pred, labels=labels)\n",
    "    \n",
    "    df_cmx = pd.DataFrame(cmx_data, index = labels, columns = labels)\n",
    "    \n",
    "    plt.figure(figsize = (10,7))\n",
    "    sn.heatmap(df_cmx, annot = True)\n",
    "    plt.show()"
   ]
  },
  {
   "cell_type": "code",
   "execution_count": 19,
   "metadata": {},
   "outputs": [],
   "source": [
    "y_testPred = model.predict(x_val_vec)\n",
    "y_testP = []\n",
    "for x in y_testPred:\n",
    "    y_testP.append(x.argmax())\n",
    "y_testP = np.array(y_testP)"
   ]
  },
  {
   "cell_type": "code",
   "execution_count": 20,
   "metadata": {},
   "outputs": [
    {
     "data": {
      "image/png": "[encoded data removed]",
      "text/plain": [
       "<Figure size 720x504 with 2 Axes>"
      ]
     },
     "metadata": {
      "needs_background": "light"
     },
     "output_type": "display_data"
    },
    {
     "name": "stdout",
     "output_type": "stream",
     "text": [
      "              precision    recall  f1-score   support\n",
      "\n",
      "           0       0.90      0.94      0.92       261\n",
      "           1       0.90      0.66      0.76       270\n",
      "           2       0.79      0.85      0.82       260\n",
      "           3       0.80      0.88      0.84       264\n",
      "           4       0.64      0.95      0.77       247\n",
      "           5       0.52      0.94      0.67       256\n",
      "           6       0.59      0.89      0.71       257\n",
      "           7       0.55      0.96      0.70       256\n",
      "           8       0.89      0.84      0.86       246\n",
      "           9       0.55      0.85      0.67       260\n",
      "          10       0.98      0.80      0.88      4221\n",
      "\n",
      "    accuracy                           0.83      6798\n",
      "   macro avg       0.74      0.87      0.78      6798\n",
      "weighted avg       0.88      0.83      0.84      6798\n",
      "\n"
     ]
    }
   ],
   "source": [
    "from sklearn.metrics import classification_report\n",
    "\n",
    "print_cmx(y_val_vec, y_testP)\n",
    "print(classification_report(y_val_vec, y_testP))"
   ]
  },
  {
   "cell_type": "code",
   "execution_count": null,
   "metadata": {},
   "outputs": [],
   "source": []
  },
  {
   "cell_type": "code",
   "execution_count": 21,
   "metadata": {},
   "outputs": [],
   "source": [
    "getFeature = K.function([model.layers[0].input, K.learning_phase()],\n",
    "                        [model.layers[19].output])\n",
    "\n",
    "getPrediction = K.function([model.layers[20].input, K.learning_phase()],\n",
    "                           [model.layers[20].output])"
   ]
  },
  {
   "cell_type": "code",
   "execution_count": null,
   "metadata": {},
   "outputs": [],
   "source": []
  },
  {
   "cell_type": "code",
   "execution_count": 24,
   "metadata": {},
   "outputs": [],
   "source": [
    "y_train3000 = y_train_vec[::23].reshape(y_train_vec[::23].shape[0],)\n",
    "y_test1000 = y_val_vec[::4]"
   ]
  },
  {
   "cell_type": "code",
   "execution_count": 25,
   "metadata": {},
   "outputs": [
    {
     "name": "stdout",
     "output_type": "stream",
     "text": [
      "(2519,) (1700,)\n"
     ]
    }
   ],
   "source": [
    "print(y_train3000.shape,y_test1000.shape)"
   ]
  },
  {
   "cell_type": "code",
   "execution_count": 26,
   "metadata": {},
   "outputs": [],
   "source": [
    "exTrain3000 = getFeature([x_train_vec[::23], 0])[0]"
   ]
  },
  {
   "cell_type": "code",
   "execution_count": 28,
   "metadata": {},
   "outputs": [],
   "source": [
    "exTest1000 = getFeature([x_val_vec[::4], 0])[0]"
   ]
  },
  {
   "cell_type": "code",
   "execution_count": 29,
   "metadata": {},
   "outputs": [
    {
     "name": "stdout",
     "output_type": "stream",
     "text": [
      "(2519, 250) (1700, 250)\n"
     ]
    }
   ],
   "source": [
    "print(exTrain3000.shape,exTest1000.shape)"
   ]
  },
  {
   "cell_type": "code",
   "execution_count": 30,
   "metadata": {},
   "outputs": [
    {
     "name": "stderr",
     "output_type": "stream",
     "text": [
      "C:\\Users\\cc\\Anaconda3\\lib\\site-packages\\sklearn\\model_selection\\_split.py:1978: FutureWarning: The default value of cv will change from 3 to 5 in version 0.22. Specify it explicitly to silence this warning.\n",
      "  warnings.warn(CV_WARNING, FutureWarning)\n"
     ]
    },
    {
     "data": {
      "text/plain": [
       "GridSearchCV(cv='warn', error_score='raise-deprecating',\n",
       "             estimator=SVC(C=1.0, cache_size=200, class_weight=None, coef0=0.0,\n",
       "                           decision_function_shape='ovr', degree=3,\n",
       "                           gamma='auto_deprecated', kernel='rbf', max_iter=-1,\n",
       "                           probability=False, random_state=None, shrinking=True,\n",
       "                           tol=0.001, verbose=False),\n",
       "             iid='warn', n_jobs=None,\n",
       "             param_grid={'C': [1, 10, 100, 1000], 'gamma': [0.001, 0.0001],\n",
       "                         'kernel': ['rbf']},\n",
       "             pre_dispatch='2*n_jobs', refit=True, return_train_score=False,\n",
       "             scoring=None, verbose=0)"
      ]
     },
     "execution_count": 30,
     "metadata": {},
     "output_type": "execute_result"
    }
   ],
   "source": [
    "from sklearn.svm import SVC\n",
    "from sklearn.model_selection import GridSearchCV\n",
    "\n",
    "parameters = {'kernel':['rbf'], \n",
    "              'C':[1, 10, 100, 1000],\n",
    "              'gamma':[1e-3, 1e-4]}\n",
    "clf = GridSearchCV(SVC(), parameters)\n",
    "clf.fit(exTrain3000, y_train3000)"
   ]
  },
  {
   "cell_type": "code",
   "execution_count": 31,
   "metadata": {},
   "outputs": [
    {
     "data": {
      "text/plain": [
       "SVC(C=100, cache_size=200, class_weight=None, coef0=0.0,\n",
       "    decision_function_shape='ovr', degree=3, gamma=0.0001, kernel='rbf',\n",
       "    max_iter=-1, probability=False, random_state=None, shrinking=True,\n",
       "    tol=0.001, verbose=False)"
      ]
     },
     "execution_count": 31,
     "metadata": {},
     "output_type": "execute_result"
    }
   ],
   "source": [
    "svmclf = clf.best_estimator_\n",
    "svmclf.fit(exTrain3000, y_train3000)\n"
   ]
  },
  {
   "cell_type": "code",
   "execution_count": 32,
   "metadata": {},
   "outputs": [
    {
     "data": {
      "image/png": "[encoded data removed]",
      "text/plain": [
       "<Figure size 720x504 with 2 Axes>"
      ]
     },
     "metadata": {
      "needs_background": "light"
     },
     "output_type": "display_data"
    },
    {
     "name": "stdout",
     "output_type": "stream",
     "text": [
      "              precision    recall  f1-score   support\n",
      "\n",
      "           0       0.97      0.92      0.94        65\n",
      "           1       0.80      0.85      0.83        67\n",
      "           2       0.92      0.89      0.91        65\n",
      "           3       0.96      0.80      0.88        66\n",
      "           4       0.90      0.85      0.88        62\n",
      "           5       0.96      0.78      0.86        64\n",
      "           6       0.94      0.91      0.92        64\n",
      "           7       0.93      0.86      0.89        64\n",
      "           8       0.90      0.85      0.88        62\n",
      "           9       0.86      0.75      0.80        65\n",
      "          10       0.93      0.97      0.95      1056\n",
      "\n",
      "    accuracy                           0.93      1700\n",
      "   macro avg       0.92      0.86      0.89      1700\n",
      "weighted avg       0.93      0.93      0.92      1700\n",
      "\n"
     ]
    }
   ],
   "source": [
    "y_testSVM = svmclf.predict(exTest1000)\n",
    "\n",
    "from sklearn.metrics import confusion_matrix, classification_report\n",
    "\n",
    "print_cmx(y_test1000, y_testSVM)\n",
    "print(classification_report(y_test1000, y_testSVM))"
   ]
  },
  {
   "cell_type": "code",
   "execution_count": 45,
   "metadata": {},
   "outputs": [
    {
     "name": "stderr",
     "output_type": "stream",
     "text": [
      "C:\\Users\\cc\\Anaconda3\\lib\\site-packages\\sklearn\\model_selection\\_split.py:1978: FutureWarning: The default value of cv will change from 3 to 5 in version 0.22. Specify it explicitly to silence this warning.\n",
      "  warnings.warn(CV_WARNING, FutureWarning)\n"
     ]
    },
    {
     "data": {
      "text/plain": [
       "GridSearchCV(cv='warn', error_score='raise-deprecating',\n",
       "             estimator=KNeighborsClassifier(algorithm='auto', leaf_size=30,\n",
       "                                            metric='minkowski',\n",
       "                                            metric_params=None, n_jobs=None,\n",
       "                                            n_neighbors=5, p=2,\n",
       "                                            weights='uniform'),\n",
       "             iid='warn', n_jobs=None,\n",
       "             param_grid={'algorithm': ['auto'],\n",
       "                         'metric': ['euclidean', 'manhattan'],\n",
       "                         'n_neighbors': [10], 'weights': ['distance']},\n",
       "             pre_dispatch='2*n_jobs', refit=True, return_train_score=False,\n",
       "             scoring=None, verbose=0)"
      ]
     },
     "execution_count": 45,
     "metadata": {},
     "output_type": "execute_result"
    }
   ],
   "source": [
    "from sklearn.neighbors import KNeighborsClassifier\n",
    "from sklearn.model_selection import GridSearchCV\n",
    "\n",
    "parameters = {\"n_neighbors\": [10],\n",
    "              \"weights\": ['distance'],\n",
    "              \"metric\": ['euclidean','manhattan'],\n",
    "              \"algorithm\": ['auto']}\n",
    "kclf = KNeighborsClassifier()\n",
    "kgclf = GridSearchCV(kclf, param_grid=parameters)\n",
    "kgclf.fit(exTrain3000, y_train3000)"
   ]
  },
  {
   "cell_type": "code",
   "execution_count": 46,
   "metadata": {},
   "outputs": [
    {
     "data": {
      "text/plain": [
       "KNeighborsClassifier(algorithm='auto', leaf_size=30, metric='manhattan',\n",
       "                     metric_params=None, n_jobs=None, n_neighbors=10, p=2,\n",
       "                     weights='distance')"
      ]
     },
     "execution_count": 46,
     "metadata": {},
     "output_type": "execute_result"
    }
   ],
   "source": [
    "kclf = kgclf.best_estimator_\n",
    "kclf.fit(exTrain3000, y_train3000)"
   ]
  },
  {
   "cell_type": "code",
   "execution_count": 48,
   "metadata": {},
   "outputs": [
    {
     "data": {
      "image/png": "[encoded data removed]",
      "text/plain": [
       "<Figure size 720x504 with 2 Axes>"
      ]
     },
     "metadata": {
      "needs_background": "light"
     },
     "output_type": "display_data"
    },
    {
     "name": "stdout",
     "output_type": "stream",
     "text": [
      "              precision    recall  f1-score   support\n",
      "\n",
      "           0       0.98      0.91      0.94        65\n",
      "           1       0.85      0.78      0.81        67\n",
      "           2       0.83      0.92      0.88        65\n",
      "           3       0.96      0.79      0.87        66\n",
      "           4       0.86      0.82      0.84        62\n",
      "           5       0.96      0.84      0.90        64\n",
      "           6       0.92      0.91      0.91        64\n",
      "           7       0.92      0.86      0.89        64\n",
      "           8       0.94      0.79      0.86        62\n",
      "           9       0.87      0.71      0.78        65\n",
      "          10       0.93      0.98      0.95      1056\n",
      "\n",
      "    accuracy                           0.92      1700\n",
      "   macro avg       0.91      0.85      0.88      1700\n",
      "weighted avg       0.92      0.92      0.92      1700\n",
      "\n"
     ]
    }
   ],
   "source": [
    "y_testKNN = kclf.predict(exTest1000)\n",
    "from sklearn.metrics import confusion_matrix, classification_report\n",
    "\n",
    "print_cmx(y_test1000, y_testKNN)\n",
    "print(classification_report(y_test1000, y_testKNN))"
   ]
  },
  {
   "cell_type": "code",
   "execution_count": 44,
   "metadata": {},
   "outputs": [
    {
     "name": "stdout",
     "output_type": "stream",
     "text": [
      "[10 10 10 ... 10 10 10]\n"
     ]
    }
   ],
   "source": [
    "print(y_testKNN)\n"
   ]
  },
  {
   "cell_type": "code",
   "execution_count": null,
   "metadata": {},
   "outputs": [],
   "source": [
    "from sklearn.ensemble import RandomForestClassifier\n",
    "from sklearn.model_selection import GridSearchCV\n",
    "\n",
    "parameters = {\"max_depth\": [3, None],\n",
    "              \"max_features\": [10],\n",
    "              \"min_samples_split\": [1.0, 3, 10],\n",
    "              \"min_samples_leaf\": [10],\n",
    "              \"bootstrap\": [True, False],\n",
    "              \"criterion\": [\"entropy\"],\n",
    "              \"n_estimators\": [50]}\n",
    "rclf = RandomForestClassifier()\n",
    "rgclf = GridSearchCV(rclf, param_grid=parameters)\n",
    "rgclf.fit(exTrain3000, y_train3000)"
   ]
  },
  {
   "cell_type": "code",
   "execution_count": null,
   "metadata": {},
   "outputs": [],
   "source": [
    "rclf = rgclf.best_estimator_\n",
    "rclf.fit(exTrain3000, y_train3000)"
   ]
  },
  {
   "cell_type": "code",
   "execution_count": null,
   "metadata": {},
   "outputs": [],
   "source": [
    "y_testRF = rclf.predict(exTest1000)\n",
    "\n",
    "from sklearn.metrics import confusion_matrix, classification_report\n",
    "\n",
    "print_cmx(y_test1000, y_testRF)\n",
    "print(classification_report(y_test1000, y_testRF))"
   ]
  }
 ],
 "metadata": {
  "kernelspec": {
   "display_name": "Python 3",
   "language": "python",
   "name": "python3"
  },
  "language_info": {
   "codemirror_mode": {
    "name": "ipython",
    "version": 3
   },
   "file_extension": ".py",
   "mimetype": "text/x-python",
   "name": "python",
   "nbconvert_exporter": "python",
   "pygments_lexer": "ipython3",
   "version": "3.6.5"
  }
 },
 "nbformat": 4,
 "nbformat_minor": 2
}
