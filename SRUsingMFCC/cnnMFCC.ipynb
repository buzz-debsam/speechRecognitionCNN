{
 "cells": [
  {
   "cell_type": "code",
   "execution_count": 1,
   "metadata": {},
   "outputs": [
    {
     "name": "stderr",
     "output_type": "stream",
     "text": [
      "Using TensorFlow backend.\n"
     ]
    }
   ],
   "source": [
    "from preprocess import *\n",
    "import keras\n",
    "from keras.models import Sequential\n",
    "from keras.layers import Dense, Dropout, Flatten, Conv2D, MaxPooling2D, LSTM\n",
    "from keras.utils import to_categorical\n",
    "import matplotlib.pyplot as plt"
   ]
  },
  {
   "cell_type": "code",
   "execution_count": 2,
   "metadata": {},
   "outputs": [
    {
     "name": "stderr",
     "output_type": "stream",
     "text": [
      "Saving vectors of label - 'zero': 100%|██████████| 200/200 [00:04<00:00, 46.77it/s]\n",
      "Saving vectors of label - 'one': 100%|██████████| 200/200 [00:04<00:00, 48.36it/s]\n",
      "Saving vectors of label - 'two': 100%|██████████| 200/200 [00:04<00:00, 49.64it/s]\n",
      "Saving vectors of label - 'three': 100%|██████████| 200/200 [00:04<00:00, 46.05it/s]\n",
      "Saving vectors of label - 'four': 100%|██████████| 200/200 [00:04<00:00, 47.14it/s]\n",
      "Saving vectors of label - 'five': 100%|██████████| 200/200 [00:03<00:00, 52.22it/s]\n",
      "Saving vectors of label - 'six': 100%|██████████| 200/200 [00:03<00:00, 50.93it/s]\n",
      "Saving vectors of label - 'seven': 100%|██████████| 200/200 [00:04<00:00, 46.48it/s]\n",
      "Saving vectors of label - 'eight': 100%|██████████| 200/200 [00:04<00:00, 47.69it/s]\n",
      "Saving vectors of label - 'nine': 100%|██████████| 200/200 [00:03<00:00, 50.17it/s]\n"
     ]
    }
   ],
   "source": [
    "max_len = 11\n",
    "buckets = 20\n",
    "\n",
    "save_data_to_array(max_len=max_len, n_mfcc=buckets)\n"
   ]
  },
  {
   "cell_type": "code",
   "execution_count": 3,
   "metadata": {},
   "outputs": [],
   "source": [
    "X_train, X_test, y_train, y_test = get_train_test()"
   ]
  },
  {
   "cell_type": "code",
   "execution_count": 4,
   "metadata": {},
   "outputs": [],
   "source": [
    "channels = 1\n",
    "epochs = 10\n",
    "batch_size = 512\n",
    "\n",
    "num_classes = 10\n",
    "\n",
    "X_train = X_train.reshape(X_train.shape[0], buckets, max_len, channels)\n",
    "X_test = X_test.reshape(X_test.shape[0], buckets, max_len, channels)"
   ]
  },
  {
   "cell_type": "code",
   "execution_count": 5,
   "metadata": {},
   "outputs": [
    {
     "name": "stdout",
     "output_type": "stream",
     "text": [
      "4.0\n"
     ]
    },
    {
     "data": {
      "image/png": "[encoded data removed]",
      "text/plain": [
       "<Figure size 432x288 with 1 Axes>"
      ]
     },
     "metadata": {
      "needs_background": "light"
     },
     "output_type": "display_data"
    }
   ],
   "source": [
    "plt.imshow(X_train[100, :, :, 0])\n",
    "print(y_train[100])"
   ]
  },
  {
   "cell_type": "code",
   "execution_count": 6,
   "metadata": {},
   "outputs": [],
   "source": [
    "y_train_hot = to_categorical(y_train)\n",
    "y_test_hot = to_categorical(y_test)"
   ]
  },
  {
   "cell_type": "code",
   "execution_count": 7,
   "metadata": {},
   "outputs": [],
   "source": [
    "model = Sequential()\n",
    "model.add(Conv2D(32,\n",
    "    (3,3),\n",
    "    input_shape=(buckets, max_len,1),\n",
    "    activation='relu'))\n",
    "model.add(MaxPooling2D(pool_size=(2, 2)))\n",
    "model.add(Conv2D(32,(3,3),activation='relu'))\n",
    "model.add(MaxPooling2D(pool_size=(2, 2)))\n",
    "model.add(Flatten())\n",
    "model.add(Dense(128, activation='relu'))\n",
    "model.add(Dense(num_classes, activation='softmax'))\n",
    "\n",
    "model.compile(loss=\"categorical_crossentropy\",\n",
    "                  optimizer=\"adam\",\n",
    "                  metrics=['accuracy'])"
   ]
  },
  {
   "cell_type": "code",
   "execution_count": 8,
   "metadata": {},
   "outputs": [
    {
     "name": "stdout",
     "output_type": "stream",
     "text": [
      "Train on 1200 samples, validate on 800 samples\n",
      "Epoch 1/10\n",
      "1200/1200 [==============================] - ETA: 1:15 - loss: 4.5960 - accuracy: 0.09 - ETA: 17s - loss: 3.8499 - accuracy: 0.1016 - ETA: 6s - loss: 3.1272 - accuracy: 0.153 - ETA: 3s - loss: 2.8364 - accuracy: 0.20 - ETA: 1s - loss: 2.5709 - accuracy: 0.24 - ETA: 0s - loss: 2.4093 - accuracy: 0.28 - ETA: 0s - loss: 2.2975 - accuracy: 0.29 - 3s 2ms/step - loss: 2.2710 - accuracy: 0.3017 - val_loss: 1.7786 - val_accuracy: 0.3787\n",
      "Epoch 2/10\n",
      "1200/1200 [==============================] - ETA: 0s - loss: 1.4717 - accuracy: 0.59 - ETA: 0s - loss: 1.4883 - accuracy: 0.46 - ETA: 0s - loss: 1.4762 - accuracy: 0.48 - ETA: 0s - loss: 1.4585 - accuracy: 0.48 - ETA: 0s - loss: 1.4103 - accuracy: 0.51 - ETA: 0s - loss: 1.3878 - accuracy: 0.52 - ETA: 0s - loss: 1.3434 - accuracy: 0.53 - 0s 404us/step - loss: 1.3290 - accuracy: 0.5358 - val_loss: 1.2022 - val_accuracy: 0.5925\n",
      "Epoch 3/10\n",
      "1200/1200 [==============================] - ETA: 0s - loss: 1.0011 - accuracy: 0.71 - ETA: 0s - loss: 1.0269 - accuracy: 0.63 - ETA: 0s - loss: 0.9956 - accuracy: 0.65 - ETA: 0s - loss: 1.0068 - accuracy: 0.66 - ETA: 0s - loss: 0.9804 - accuracy: 0.66 - ETA: 0s - loss: 0.9419 - accuracy: 0.68 - ETA: 0s - loss: 0.9276 - accuracy: 0.68 - ETA: 0s - loss: 0.9216 - accuracy: 0.68 - 1s 495us/step - loss: 0.9223 - accuracy: 0.6867 - val_loss: 1.0365 - val_accuracy: 0.6575\n",
      "Epoch 4/10\n",
      "1200/1200 [==============================] - ETA: 0s - loss: 0.7989 - accuracy: 0.75 - ETA: 0s - loss: 0.8516 - accuracy: 0.70 - ETA: 0s - loss: 0.7757 - accuracy: 0.72 - ETA: 0s - loss: 0.7892 - accuracy: 0.72 - ETA: 0s - loss: 0.7422 - accuracy: 0.74 - ETA: 0s - loss: 0.7291 - accuracy: 0.75 - ETA: 0s - loss: 0.7299 - accuracy: 0.75 - 0s 409us/step - loss: 0.7268 - accuracy: 0.7608 - val_loss: 0.9470 - val_accuracy: 0.6662\n",
      "Epoch 5/10\n",
      "1200/1200 [==============================] - ETA: 0s - loss: 0.5422 - accuracy: 0.87 - ETA: 0s - loss: 0.6552 - accuracy: 0.75 - ETA: 0s - loss: 0.5997 - accuracy: 0.79 - ETA: 0s - loss: 0.6071 - accuracy: 0.78 - ETA: 0s - loss: 0.6218 - accuracy: 0.77 - ETA: 0s - loss: 0.5991 - accuracy: 0.78 - ETA: 0s - loss: 0.5830 - accuracy: 0.80 - ETA: 0s - loss: 0.5889 - accuracy: 0.79 - ETA: 0s - loss: 0.5714 - accuracy: 0.80 - 1s 521us/step - loss: 0.5718 - accuracy: 0.8042 - val_loss: 0.7906 - val_accuracy: 0.7325\n",
      "Epoch 6/10\n",
      "1200/1200 [==============================] - ETA: 0s - loss: 0.3622 - accuracy: 0.93 - ETA: 0s - loss: 0.4175 - accuracy: 0.87 - ETA: 0s - loss: 0.4648 - accuracy: 0.87 - ETA: 0s - loss: 0.4376 - accuracy: 0.87 - ETA: 0s - loss: 0.4464 - accuracy: 0.87 - ETA: 0s - loss: 0.4436 - accuracy: 0.87 - ETA: 0s - loss: 0.4554 - accuracy: 0.86 - 0s 417us/step - loss: 0.4618 - accuracy: 0.8583 - val_loss: 0.6984 - val_accuracy: 0.7563\n",
      "Epoch 7/10\n",
      "1200/1200 [==============================] - ETA: 0s - loss: 0.2713 - accuracy: 0.93 - ETA: 0s - loss: 0.4799 - accuracy: 0.82 - ETA: 0s - loss: 0.4584 - accuracy: 0.82 - ETA: 0s - loss: 0.4231 - accuracy: 0.85 - ETA: 0s - loss: 0.4064 - accuracy: 0.86 - ETA: 0s - loss: 0.4231 - accuracy: 0.85 - ETA: 0s - loss: 0.4158 - accuracy: 0.85 - 1s 443us/step - loss: 0.4017 - accuracy: 0.8625 - val_loss: 0.6531 - val_accuracy: 0.7875\n",
      "Epoch 8/10\n",
      "1200/1200 [==============================] - ETA: 0s - loss: 0.3049 - accuracy: 0.90 - ETA: 0s - loss: 0.3041 - accuracy: 0.90 - ETA: 0s - loss: 0.2852 - accuracy: 0.91 - ETA: 0s - loss: 0.3139 - accuracy: 0.90 - ETA: 0s - loss: 0.3429 - accuracy: 0.90 - ETA: 0s - loss: 0.3216 - accuracy: 0.90 - ETA: 0s - loss: 0.3138 - accuracy: 0.91 - ETA: 0s - loss: 0.3082 - accuracy: 0.91 - ETA: 0s - loss: 0.3179 - accuracy: 0.90 - ETA: 0s - loss: 0.3206 - accuracy: 0.90 - 1s 573us/step - loss: 0.3203 - accuracy: 0.9017 - val_loss: 0.6652 - val_accuracy: 0.7837\n",
      "Epoch 9/10\n",
      "1200/1200 [==============================] - ETA: 0s - loss: 0.4419 - accuracy: 0.81 - ETA: 0s - loss: 0.3224 - accuracy: 0.89 - ETA: 0s - loss: 0.2861 - accuracy: 0.89 - ETA: 0s - loss: 0.2895 - accuracy: 0.88 - ETA: 0s - loss: 0.2835 - accuracy: 0.88 - ETA: 0s - loss: 0.2858 - accuracy: 0.89 - ETA: 0s - loss: 0.2789 - accuracy: 0.89 - ETA: 0s - loss: 0.2866 - accuracy: 0.89 - 1s 469us/step - loss: 0.2966 - accuracy: 0.8925 - val_loss: 0.5998 - val_accuracy: 0.8150\n",
      "Epoch 10/10\n",
      "1200/1200 [==============================] - ETA: 0s - loss: 0.2389 - accuracy: 0.84 - ETA: 0s - loss: 0.3204 - accuracy: 0.88 - ETA: 0s - loss: 0.2874 - accuracy: 0.91 - ETA: 0s - loss: 0.2772 - accuracy: 0.92 - ETA: 0s - loss: 0.2465 - accuracy: 0.93 - ETA: 0s - loss: 0.2561 - accuracy: 0.92 - ETA: 0s - loss: 0.2750 - accuracy: 0.91 - ETA: 0s - loss: 0.2756 - accuracy: 0.91 - ETA: 0s - loss: 0.2822 - accuracy: 0.91 - 1s 534us/step - loss: 0.2848 - accuracy: 0.9083 - val_loss: 0.5782 - val_accuracy: 0.8138\n"
     ]
    },
    {
     "data": {
      "text/plain": [
       "<keras.callbacks.callbacks.History at 0x1d544bf3f28>"
      ]
     },
     "execution_count": 8,
     "metadata": {},
     "output_type": "execute_result"
    }
   ],
   "source": [
    "model.fit(X_train, y_train_hot, epochs=epochs, validation_data=(X_test, y_test_hot))"
   ]
  },
  {
   "cell_type": "code",
   "execution_count": 9,
   "metadata": {},
   "outputs": [],
   "source": [
    "model.save('cnn_mfcc.h5')"
   ]
  },
  {
   "cell_type": "code",
   "execution_count": 10,
   "metadata": {},
   "outputs": [],
   "source": [
    "import pandas as pd\n",
    "import seaborn as sn\n",
    "import matplotlib.pyplot as plt\n",
    "from sklearn.metrics import confusion_matrix"
   ]
  },
  {
   "cell_type": "code",
   "execution_count": 11,
   "metadata": {},
   "outputs": [],
   "source": [
    "def print_cmx(y_true, y_pred):\n",
    "    labels = sorted(list(set(y_true)))\n",
    "    cmx_data = confusion_matrix(y_true, y_pred, labels=labels)\n",
    "    \n",
    "    df_cmx = pd.DataFrame(cmx_data, index=labels, columns=labels)\n",
    "\n",
    "    plt.figure(figsize = (10,7))\n",
    "    sn.heatmap(df_cmx, annot=True)\n",
    "    plt.show()"
   ]
  },
  {
   "cell_type": "code",
   "execution_count": 12,
   "metadata": {},
   "outputs": [],
   "source": [
    "y_testPred = model.predict(X_test)\n",
    "y_testP = []\n",
    "for x in y_testPred:\n",
    "    y_testP.append(x.argmax())\n",
    "y_testP = np.array(y_testP)"
   ]
  },
  {
   "cell_type": "code",
   "execution_count": 13,
   "metadata": {},
   "outputs": [
    {
     "name": "stdout",
     "output_type": "stream",
     "text": [
      "9.0\n"
     ]
    }
   ],
   "source": [
    "print(y_test[0])"
   ]
  },
  {
   "cell_type": "code",
   "execution_count": 14,
   "metadata": {},
   "outputs": [
    {
     "data": {
      "image/png": "[encoded data removed]",
      "text/plain": [
       "<Figure size 720x504 with 2 Axes>"
      ]
     },
     "metadata": {
      "needs_background": "light"
     },
     "output_type": "display_data"
    },
    {
     "name": "stdout",
     "output_type": "stream",
     "text": [
      "              precision    recall  f1-score   support\n",
      "\n",
      "         0.0       0.94      0.73      0.82        70\n",
      "         1.0       0.78      0.71      0.74        92\n",
      "         2.0       0.82      0.89      0.85        95\n",
      "         3.0       0.84      0.71      0.77        73\n",
      "         4.0       0.82      0.95      0.88        73\n",
      "         5.0       0.72      0.89      0.79        70\n",
      "         6.0       0.82      0.76      0.79        83\n",
      "         7.0       0.79      0.84      0.81        83\n",
      "         8.0       0.83      0.96      0.89        79\n",
      "         9.0       0.84      0.71      0.77        82\n",
      "\n",
      "    accuracy                           0.81       800\n",
      "   macro avg       0.82      0.81      0.81       800\n",
      "weighted avg       0.82      0.81      0.81       800\n",
      "\n"
     ]
    }
   ],
   "source": [
    "from sklearn.metrics import classification_report\n",
    "\n",
    "print_cmx(y_test, y_testP)\n",
    "print(classification_report(y_test, y_testP))"
   ]
  },
  {
   "cell_type": "code",
   "execution_count": 1,
   "metadata": {},
   "outputs": [
    {
     "name": "stderr",
     "output_type": "stream",
     "text": [
      "Using TensorFlow backend.\n"
     ]
    },
    {
     "ename": "NameError",
     "evalue": "name 'model' is not defined",
     "output_type": "error",
     "traceback": [
      "\u001b[1;31m---------------------------------------------------------------------------\u001b[0m",
      "\u001b[1;31mNameError\u001b[0m                                 Traceback (most recent call last)",
      "\u001b[1;32m<ipython-input-1-dfbc187785ca>\u001b[0m in \u001b[0;36m<module>\u001b[1;34m\u001b[0m\n\u001b[0;32m      1\u001b[0m \u001b[1;32mfrom\u001b[0m \u001b[0mkeras\u001b[0m \u001b[1;32mimport\u001b[0m \u001b[0mbackend\u001b[0m \u001b[1;32mas\u001b[0m \u001b[0mK\u001b[0m\u001b[1;33m\u001b[0m\u001b[0m\n\u001b[1;32m----> 2\u001b[1;33m \u001b[1;32mfor\u001b[0m \u001b[0ml\u001b[0m \u001b[1;32min\u001b[0m \u001b[0mrange\u001b[0m\u001b[1;33m(\u001b[0m\u001b[0mlen\u001b[0m\u001b[1;33m(\u001b[0m\u001b[0mmodel\u001b[0m\u001b[1;33m.\u001b[0m\u001b[0mlayers\u001b[0m\u001b[1;33m)\u001b[0m\u001b[1;33m)\u001b[0m\u001b[1;33m:\u001b[0m\u001b[1;33m\u001b[0m\u001b[0m\n\u001b[0m\u001b[0;32m      3\u001b[0m     \u001b[0mprint\u001b[0m\u001b[1;33m(\u001b[0m\u001b[0ml\u001b[0m\u001b[1;33m,\u001b[0m \u001b[0mmodel\u001b[0m\u001b[1;33m.\u001b[0m\u001b[0mlayers\u001b[0m\u001b[1;33m[\u001b[0m\u001b[0ml\u001b[0m\u001b[1;33m]\u001b[0m\u001b[1;33m)\u001b[0m\u001b[1;33m\u001b[0m\u001b[0m\n\u001b[0;32m      4\u001b[0m \u001b[0mprint\u001b[0m\u001b[1;33m(\u001b[0m\u001b[0mmodel\u001b[0m\u001b[1;33m.\u001b[0m\u001b[0msummary\u001b[0m\u001b[1;33m(\u001b[0m\u001b[1;33m)\u001b[0m\u001b[1;33m)\u001b[0m\u001b[1;33m\u001b[0m\u001b[0m\n",
      "\u001b[1;31mNameError\u001b[0m: name 'model' is not defined"
     ]
    }
   ],
   "source": [
    "from keras import backend as K\n",
    "for l in range(len(model.layers)):\n",
    "    print(l, model.layers[l])\n",
    "print(model.summary())"
   ]
  },
  {
   "cell_type": "code",
   "execution_count": 16,
   "metadata": {},
   "outputs": [],
   "source": [
    "getFeature = K.function([model.layers[0].input, K.learning_phase()],\n",
    "                        [model.layers[5].output])"
   ]
  },
  {
   "cell_type": "code",
   "execution_count": 17,
   "metadata": {},
   "outputs": [],
   "source": [
    "getPrediction = K.function([model.layers[6].input, K.learning_phase()],\n",
    "                           [model.layers[6].output])"
   ]
  },
  {
   "cell_type": "code",
   "execution_count": 18,
   "metadata": {},
   "outputs": [
    {
     "data": {
      "text/plain": [
       "(800, 20, 11, 1)"
      ]
     },
     "execution_count": 18,
     "metadata": {},
     "output_type": "execute_result"
    }
   ],
   "source": [
    "X_test.shape"
   ]
  },
  {
   "cell_type": "code",
   "execution_count": 19,
   "metadata": {},
   "outputs": [],
   "source": [
    "exTrain3000 = getFeature([X_train[:4000], 0])[0]"
   ]
  },
  {
   "cell_type": "code",
   "execution_count": 20,
   "metadata": {},
   "outputs": [],
   "source": [
    "exTest1000 = getFeature([X_test[:2500], 0])[0]"
   ]
  },
  {
   "cell_type": "code",
   "execution_count": 21,
   "metadata": {},
   "outputs": [],
   "source": [
    "y_train3000 = y_train[:4000].reshape(y_train[:4000].shape[0],)\n",
    "y_test1000 = y_test[:2500]"
   ]
  },
  {
   "cell_type": "code",
   "execution_count": 22,
   "metadata": {},
   "outputs": [
    {
     "name": "stdout",
     "output_type": "stream",
     "text": [
      "(1200, 128) (800, 128) (1200,) (800,)\n"
     ]
    }
   ],
   "source": [
    "print(exTrain3000.shape, exTest1000.shape, y_train3000.shape, y_test1000.shape)"
   ]
  },
  {
   "cell_type": "code",
   "execution_count": 32,
   "metadata": {},
   "outputs": [
    {
     "name": "stdout",
     "output_type": "stream",
     "text": [
      "[[0.         0.         0.         ... 0.47528127 4.0973244  0.        ]\n",
      " [5.5350575  0.         0.         ... 0.         0.         0.        ]\n",
      " [1.4345114  3.2929642  0.         ... 1.6892583  5.47305    0.        ]\n",
      " ...\n",
      " [4.4490833  0.         0.         ... 1.2450867  0.34050766 0.        ]\n",
      " [1.234363   0.         0.         ... 2.2126234  3.0419345  0.        ]\n",
      " [6.6850443  3.370598   4.4481654  ... 0.         1.4556174  0.        ]]\n"
     ]
    }
   ],
   "source": [
    "print(exTrain3000)"
   ]
  },
  {
   "cell_type": "code",
   "execution_count": 33,
   "metadata": {},
   "outputs": [
    {
     "name": "stdout",
     "output_type": "stream",
     "text": [
      "[[[[-317.99393   ]\n",
      "   [-312.06168   ]\n",
      "   [   0.        ]\n",
      "   ...\n",
      "   [   0.        ]\n",
      "   [   0.        ]\n",
      "   [   0.        ]]\n",
      "\n",
      "  [[ -19.601395  ]\n",
      "   [ -14.143058  ]\n",
      "   [   0.        ]\n",
      "   ...\n",
      "   [   0.        ]\n",
      "   [   0.        ]\n",
      "   [   0.        ]]\n",
      "\n",
      "  [[ -75.389496  ]\n",
      "   [ -82.84297   ]\n",
      "   [   0.        ]\n",
      "   ...\n",
      "   [   0.        ]\n",
      "   [   0.        ]\n",
      "   [   0.        ]]\n",
      "\n",
      "  ...\n",
      "\n",
      "  [[   2.778596  ]\n",
      "   [   7.059886  ]\n",
      "   [   0.        ]\n",
      "   ...\n",
      "   [   0.        ]\n",
      "   [   0.        ]\n",
      "   [   0.        ]]\n",
      "\n",
      "  [[  -3.6471705 ]\n",
      "   [   2.8368034 ]\n",
      "   [   0.        ]\n",
      "   ...\n",
      "   [   0.        ]\n",
      "   [   0.        ]\n",
      "   [   0.        ]]\n",
      "\n",
      "  [[  -0.93702656]\n",
      "   [   3.6483896 ]\n",
      "   [   0.        ]\n",
      "   ...\n",
      "   [   0.        ]\n",
      "   [   0.        ]\n",
      "   [   0.        ]]]\n",
      "\n",
      "\n",
      " [[[-317.73788   ]\n",
      "   [-336.1423    ]\n",
      "   [   0.        ]\n",
      "   ...\n",
      "   [   0.        ]\n",
      "   [   0.        ]\n",
      "   [   0.        ]]\n",
      "\n",
      "  [[ -68.72513   ]\n",
      "   [ -57.176865  ]\n",
      "   [   0.        ]\n",
      "   ...\n",
      "   [   0.        ]\n",
      "   [   0.        ]\n",
      "   [   0.        ]]\n",
      "\n",
      "  [[ -44.81008   ]\n",
      "   [ -37.523865  ]\n",
      "   [   0.        ]\n",
      "   ...\n",
      "   [   0.        ]\n",
      "   [   0.        ]\n",
      "   [   0.        ]]\n",
      "\n",
      "  ...\n",
      "\n",
      "  [[  -9.847361  ]\n",
      "   [  -9.397778  ]\n",
      "   [   0.        ]\n",
      "   ...\n",
      "   [   0.        ]\n",
      "   [   0.        ]\n",
      "   [   0.        ]]\n",
      "\n",
      "  [[  -3.3932004 ]\n",
      "   [  -6.244083  ]\n",
      "   [   0.        ]\n",
      "   ...\n",
      "   [   0.        ]\n",
      "   [   0.        ]\n",
      "   [   0.        ]]\n",
      "\n",
      "  [[  15.595695  ]\n",
      "   [  18.419487  ]\n",
      "   [   0.        ]\n",
      "   ...\n",
      "   [   0.        ]\n",
      "   [   0.        ]\n",
      "   [   0.        ]]]\n",
      "\n",
      "\n",
      " [[[-358.86053   ]\n",
      "   [-332.1719    ]\n",
      "   [-372.18814   ]\n",
      "   ...\n",
      "   [   0.        ]\n",
      "   [   0.        ]\n",
      "   [   0.        ]]\n",
      "\n",
      "  [[  14.800787  ]\n",
      "   [   0.7571313 ]\n",
      "   [ -26.908485  ]\n",
      "   ...\n",
      "   [   0.        ]\n",
      "   [   0.        ]\n",
      "   [   0.        ]]\n",
      "\n",
      "  [[ -61.34279   ]\n",
      "   [ -71.571625  ]\n",
      "   [ -77.35849   ]\n",
      "   ...\n",
      "   [   0.        ]\n",
      "   [   0.        ]\n",
      "   [   0.        ]]\n",
      "\n",
      "  ...\n",
      "\n",
      "  [[  15.286215  ]\n",
      "   [  11.863665  ]\n",
      "   [   6.089114  ]\n",
      "   ...\n",
      "   [   0.        ]\n",
      "   [   0.        ]\n",
      "   [   0.        ]]\n",
      "\n",
      "  [[ -10.875275  ]\n",
      "   [  -4.5918555 ]\n",
      "   [  -2.505715  ]\n",
      "   ...\n",
      "   [   0.        ]\n",
      "   [   0.        ]\n",
      "   [   0.        ]]\n",
      "\n",
      "  [[ -18.446083  ]\n",
      "   [ -10.50947   ]\n",
      "   [  -2.8243737 ]\n",
      "   ...\n",
      "   [   0.        ]\n",
      "   [   0.        ]\n",
      "   [   0.        ]]]\n",
      "\n",
      "\n",
      " ...\n",
      "\n",
      "\n",
      " [[[ -85.33377   ]\n",
      "   [-101.607796  ]\n",
      "   [   0.        ]\n",
      "   ...\n",
      "   [   0.        ]\n",
      "   [   0.        ]\n",
      "   [   0.        ]]\n",
      "\n",
      "  [[-100.71359   ]\n",
      "   [ -86.239525  ]\n",
      "   [   0.        ]\n",
      "   ...\n",
      "   [   0.        ]\n",
      "   [   0.        ]\n",
      "   [   0.        ]]\n",
      "\n",
      "  [[ -54.64743   ]\n",
      "   [ -63.041706  ]\n",
      "   [   0.        ]\n",
      "   ...\n",
      "   [   0.        ]\n",
      "   [   0.        ]\n",
      "   [   0.        ]]\n",
      "\n",
      "  ...\n",
      "\n",
      "  [[   4.1069436 ]\n",
      "   [   9.278677  ]\n",
      "   [   0.        ]\n",
      "   ...\n",
      "   [   0.        ]\n",
      "   [   0.        ]\n",
      "   [   0.        ]]\n",
      "\n",
      "  [[   2.1558084 ]\n",
      "   [   4.1426806 ]\n",
      "   [   0.        ]\n",
      "   ...\n",
      "   [   0.        ]\n",
      "   [   0.        ]\n",
      "   [   0.        ]]\n",
      "\n",
      "  [[  -5.4923835 ]\n",
      "   [ -11.516476  ]\n",
      "   [   0.        ]\n",
      "   ...\n",
      "   [   0.        ]\n",
      "   [   0.        ]\n",
      "   [   0.        ]]]\n",
      "\n",
      "\n",
      " [[[-135.96205   ]\n",
      "   [-128.10315   ]\n",
      "   [   0.        ]\n",
      "   ...\n",
      "   [   0.        ]\n",
      "   [   0.        ]\n",
      "   [   0.        ]]\n",
      "\n",
      "  [[ -20.270863  ]\n",
      "   [ -14.804421  ]\n",
      "   [   0.        ]\n",
      "   ...\n",
      "   [   0.        ]\n",
      "   [   0.        ]\n",
      "   [   0.        ]]\n",
      "\n",
      "  [[ -64.75377   ]\n",
      "   [ -72.35537   ]\n",
      "   [   0.        ]\n",
      "   ...\n",
      "   [   0.        ]\n",
      "   [   0.        ]\n",
      "   [   0.        ]]\n",
      "\n",
      "  ...\n",
      "\n",
      "  [[  -3.3016937 ]\n",
      "   [   0.93944025]\n",
      "   [   0.        ]\n",
      "   ...\n",
      "   [   0.        ]\n",
      "   [   0.        ]\n",
      "   [   0.        ]]\n",
      "\n",
      "  [[   1.9876728 ]\n",
      "   [   4.5233417 ]\n",
      "   [   0.        ]\n",
      "   ...\n",
      "   [   0.        ]\n",
      "   [   0.        ]\n",
      "   [   0.        ]]\n",
      "\n",
      "  [[   4.3511825 ]\n",
      "   [   8.941565  ]\n",
      "   [   0.        ]\n",
      "   ...\n",
      "   [   0.        ]\n",
      "   [   0.        ]\n",
      "   [   0.        ]]]\n",
      "\n",
      "\n",
      " [[[-414.70163   ]\n",
      "   [-417.27106   ]\n",
      "   [-436.32977   ]\n",
      "   ...\n",
      "   [   0.        ]\n",
      "   [   0.        ]\n",
      "   [   0.        ]]\n",
      "\n",
      "  [[ -52.22667   ]\n",
      "   [ -56.413517  ]\n",
      "   [ -50.749847  ]\n",
      "   ...\n",
      "   [   0.        ]\n",
      "   [   0.        ]\n",
      "   [   0.        ]]\n",
      "\n",
      "  [[ -38.453987  ]\n",
      "   [ -31.210518  ]\n",
      "   [ -24.201168  ]\n",
      "   ...\n",
      "   [   0.        ]\n",
      "   [   0.        ]\n",
      "   [   0.        ]]\n",
      "\n",
      "  ...\n",
      "\n",
      "  [[  10.499805  ]\n",
      "   [  20.807404  ]\n",
      "   [  33.24046   ]\n",
      "   ...\n",
      "   [   0.        ]\n",
      "   [   0.        ]\n",
      "   [   0.        ]]\n",
      "\n",
      "  [[  18.306805  ]\n",
      "   [  22.554852  ]\n",
      "   [  24.54299   ]\n",
      "   ...\n",
      "   [   0.        ]\n",
      "   [   0.        ]\n",
      "   [   0.        ]]\n",
      "\n",
      "  [[  -6.8440046 ]\n",
      "   [ -14.273741  ]\n",
      "   [ -18.555643  ]\n",
      "   ...\n",
      "   [   0.        ]\n",
      "   [   0.        ]\n",
      "   [   0.        ]]]]\n"
     ]
    }
   ],
   "source": [
    "print(X_train)"
   ]
  },
  {
   "cell_type": "code",
   "execution_count": 23,
   "metadata": {},
   "outputs": [
    {
     "name": "stderr",
     "output_type": "stream",
     "text": [
      "C:\\Users\\cc\\Anaconda3\\lib\\site-packages\\sklearn\\model_selection\\_split.py:1978: FutureWarning: The default value of cv will change from 3 to 5 in version 0.22. Specify it explicitly to silence this warning.\n",
      "  warnings.warn(CV_WARNING, FutureWarning)\n"
     ]
    },
    {
     "data": {
      "text/plain": [
       "GridSearchCV(cv='warn', error_score='raise-deprecating',\n",
       "             estimator=KNeighborsClassifier(algorithm='auto', leaf_size=30,\n",
       "                                            metric='minkowski',\n",
       "                                            metric_params=None, n_jobs=None,\n",
       "                                            n_neighbors=5, p=2,\n",
       "                                            weights='uniform'),\n",
       "             iid='warn', n_jobs=None,\n",
       "             param_grid={'algorithm': ['auto'],\n",
       "                         'metric': ['euclidean', 'manhattan'],\n",
       "                         'n_neighbors': [10], 'weights': ['distance']},\n",
       "             pre_dispatch='2*n_jobs', refit=True, return_train_score=False,\n",
       "             scoring=None, verbose=0)"
      ]
     },
     "execution_count": 23,
     "metadata": {},
     "output_type": "execute_result"
    }
   ],
   "source": [
    "from sklearn.neighbors import KNeighborsClassifier\n",
    "from sklearn.model_selection import GridSearchCV\n",
    "\n",
    "parameters = {\"n_neighbors\": [10],\n",
    "              \"weights\": [ 'distance'],\n",
    "              \"metric\": ['euclidean','manhattan'],\n",
    "              \"algorithm\": ['auto']}\n",
    "kclf = KNeighborsClassifier()\n",
    "kgclf = GridSearchCV(kclf, param_grid=parameters)\n",
    "kgclf.fit(exTrain3000, y_train3000)"
   ]
  },
  {
   "cell_type": "code",
   "execution_count": 24,
   "metadata": {},
   "outputs": [
    {
     "data": {
      "text/plain": [
       "KNeighborsClassifier(algorithm='auto', leaf_size=30, metric='euclidean',\n",
       "                     metric_params=None, n_jobs=None, n_neighbors=10, p=2,\n",
       "                     weights='distance')"
      ]
     },
     "execution_count": 24,
     "metadata": {},
     "output_type": "execute_result"
    }
   ],
   "source": [
    "kclf = kgclf.best_estimator_\n",
    "kclf.fit(exTrain3000, y_train3000)"
   ]
  },
  {
   "cell_type": "code",
   "execution_count": 25,
   "metadata": {},
   "outputs": [
    {
     "data": {
      "image/png": "[encoded data removed]",
      "text/plain": [
       "<Figure size 720x504 with 2 Axes>"
      ]
     },
     "metadata": {
      "needs_background": "light"
     },
     "output_type": "display_data"
    },
    {
     "name": "stdout",
     "output_type": "stream",
     "text": [
      "              precision    recall  f1-score   support\n",
      "\n",
      "         0.0       0.84      0.87      0.85        70\n",
      "         1.0       0.82      0.73      0.77        92\n",
      "         2.0       0.95      0.79      0.86        95\n",
      "         3.0       0.73      0.86      0.79        73\n",
      "         4.0       0.97      0.89      0.93        73\n",
      "         5.0       0.84      0.87      0.85        70\n",
      "         6.0       0.90      0.76      0.82        83\n",
      "         7.0       0.82      0.94      0.88        83\n",
      "         8.0       0.89      0.92      0.91        79\n",
      "         9.0       0.74      0.84      0.79        82\n",
      "\n",
      "    accuracy                           0.84       800\n",
      "   macro avg       0.85      0.85      0.85       800\n",
      "weighted avg       0.85      0.84      0.84       800\n",
      "\n"
     ]
    }
   ],
   "source": [
    "y_testKNN = kclf.predict(exTest1000)\n",
    "\n",
    "from sklearn.metrics import confusion_matrix, classification_report\n",
    "\n",
    "print_cmx(y_test1000, y_testKNN)\n",
    "print(classification_report(y_test1000, y_testKNN))"
   ]
  },
  {
   "cell_type": "code",
   "execution_count": 26,
   "metadata": {},
   "outputs": [
    {
     "name": "stderr",
     "output_type": "stream",
     "text": [
      "C:\\Users\\cc\\Anaconda3\\lib\\site-packages\\sklearn\\model_selection\\_split.py:1978: FutureWarning: The default value of cv will change from 3 to 5 in version 0.22. Specify it explicitly to silence this warning.\n",
      "  warnings.warn(CV_WARNING, FutureWarning)\n"
     ]
    },
    {
     "data": {
      "text/plain": [
       "GridSearchCV(cv='warn', error_score='raise-deprecating',\n",
       "             estimator=SVC(C=1.0, cache_size=200, class_weight=None, coef0=0.0,\n",
       "                           decision_function_shape='ovr', degree=3,\n",
       "                           gamma='auto_deprecated', kernel='rbf', max_iter=-1,\n",
       "                           probability=False, random_state=None, shrinking=True,\n",
       "                           tol=0.001, verbose=False),\n",
       "             iid='warn', n_jobs=None,\n",
       "             param_grid={'C': [1, 10, 100, 1000], 'gamma': [0.001, 0.0001],\n",
       "                         'kernel': ['rbf']},\n",
       "             pre_dispatch='2*n_jobs', refit=True, return_train_score=False,\n",
       "             scoring=None, verbose=0)"
      ]
     },
     "execution_count": 26,
     "metadata": {},
     "output_type": "execute_result"
    }
   ],
   "source": [
    "from sklearn.svm import SVC\n",
    "from sklearn.model_selection import GridSearchCV\n",
    "\n",
    "parameters = {'kernel':['rbf'], \n",
    "              'C':[1, 10, 100, 1000],\n",
    "              'gamma':[1e-3, 1e-4]}\n",
    "clf = GridSearchCV(SVC(), parameters)\n",
    "clf.fit(exTrain3000, y_train3000)"
   ]
  },
  {
   "cell_type": "code",
   "execution_count": 27,
   "metadata": {},
   "outputs": [
    {
     "data": {
      "text/plain": [
       "SVC(C=10, cache_size=200, class_weight=None, coef0=0.0,\n",
       "    decision_function_shape='ovr', degree=3, gamma=0.001, kernel='rbf',\n",
       "    max_iter=-1, probability=False, random_state=None, shrinking=True,\n",
       "    tol=0.001, verbose=False)"
      ]
     },
     "execution_count": 27,
     "metadata": {},
     "output_type": "execute_result"
    }
   ],
   "source": [
    "svmclf = clf.best_estimator_\n",
    "svmclf.fit(exTrain3000, y_train3000)"
   ]
  },
  {
   "cell_type": "code",
   "execution_count": 28,
   "metadata": {},
   "outputs": [
    {
     "data": {
      "image/png": "[encoded data removed]",
      "text/plain": [
       "<Figure size 720x504 with 2 Axes>"
      ]
     },
     "metadata": {
      "needs_background": "light"
     },
     "output_type": "display_data"
    },
    {
     "name": "stdout",
     "output_type": "stream",
     "text": [
      "              precision    recall  f1-score   support\n",
      "\n",
      "         0.0       0.86      0.89      0.87        70\n",
      "         1.0       0.82      0.78      0.80        92\n",
      "         2.0       0.91      0.81      0.86        95\n",
      "         3.0       0.79      0.88      0.83        73\n",
      "         4.0       0.96      0.92      0.94        73\n",
      "         5.0       0.85      0.89      0.87        70\n",
      "         6.0       0.91      0.89      0.90        83\n",
      "         7.0       0.88      0.94      0.91        83\n",
      "         8.0       0.93      0.94      0.93        79\n",
      "         9.0       0.85      0.84      0.85        82\n",
      "\n",
      "    accuracy                           0.87       800\n",
      "   macro avg       0.87      0.88      0.88       800\n",
      "weighted avg       0.88      0.87      0.87       800\n",
      "\n"
     ]
    }
   ],
   "source": [
    "y_testSVM = svmclf.predict(exTest1000)\n",
    "\n",
    "from sklearn.metrics import confusion_matrix, classification_report\n",
    "\n",
    "print_cmx(y_test1000, y_testSVM)\n",
    "print(classification_report(y_test1000, y_testSVM))"
   ]
  },
  {
   "cell_type": "code",
   "execution_count": 29,
   "metadata": {},
   "outputs": [
    {
     "name": "stderr",
     "output_type": "stream",
     "text": [
      "C:\\Users\\cc\\Anaconda3\\lib\\site-packages\\sklearn\\model_selection\\_split.py:1978: FutureWarning: The default value of cv will change from 3 to 5 in version 0.22. Specify it explicitly to silence this warning.\n",
      "  warnings.warn(CV_WARNING, FutureWarning)\n"
     ]
    },
    {
     "data": {
      "text/plain": [
       "GridSearchCV(cv='warn', error_score='raise-deprecating',\n",
       "             estimator=RandomForestClassifier(bootstrap=True, class_weight=None,\n",
       "                                              criterion='gini', max_depth=None,\n",
       "                                              max_features='auto',\n",
       "                                              max_leaf_nodes=None,\n",
       "                                              min_impurity_decrease=0.0,\n",
       "                                              min_impurity_split=None,\n",
       "                                              min_samples_leaf=1,\n",
       "                                              min_samples_split=2,\n",
       "                                              min_weight_fraction_leaf=0.0,\n",
       "                                              n_estimators='warn', n_jobs=None,\n",
       "                                              oob_score=False,\n",
       "                                              random_state=None, verbose=0,\n",
       "                                              warm_start=False),\n",
       "             iid='warn', n_jobs=None,\n",
       "             param_grid={'bootstrap': [True, False], 'criterion': ['entropy'],\n",
       "                         'max_depth': [3, None], 'max_features': [10],\n",
       "                         'min_samples_leaf': [10],\n",
       "                         'min_samples_split': [1.0, 3, 10],\n",
       "                         'n_estimators': [50]},\n",
       "             pre_dispatch='2*n_jobs', refit=True, return_train_score=False,\n",
       "             scoring=None, verbose=0)"
      ]
     },
     "execution_count": 29,
     "metadata": {},
     "output_type": "execute_result"
    }
   ],
   "source": [
    "from sklearn.ensemble import RandomForestClassifier\n",
    "from sklearn.model_selection import GridSearchCV\n",
    "\n",
    "parameters = {\"max_depth\": [3, None],\n",
    "              \"max_features\": [10],\n",
    "              \"min_samples_split\": [1.0, 3, 10],\n",
    "              \"min_samples_leaf\": [10],\n",
    "              \"bootstrap\": [True, False],\n",
    "              \"criterion\": [\"entropy\"],\n",
    "              \"n_estimators\": [50]}\n",
    "rclf = RandomForestClassifier()\n",
    "rgclf = GridSearchCV(rclf, param_grid=parameters)\n",
    "rgclf.fit(exTrain3000, y_train3000)"
   ]
  },
  {
   "cell_type": "code",
   "execution_count": 30,
   "metadata": {},
   "outputs": [
    {
     "data": {
      "text/plain": [
       "RandomForestClassifier(bootstrap=False, class_weight=None, criterion='entropy',\n",
       "                       max_depth=None, max_features=10, max_leaf_nodes=None,\n",
       "                       min_impurity_decrease=0.0, min_impurity_split=None,\n",
       "                       min_samples_leaf=10, min_samples_split=10,\n",
       "                       min_weight_fraction_leaf=0.0, n_estimators=50,\n",
       "                       n_jobs=None, oob_score=False, random_state=None,\n",
       "                       verbose=0, warm_start=False)"
      ]
     },
     "execution_count": 30,
     "metadata": {},
     "output_type": "execute_result"
    }
   ],
   "source": [
    "rclf = rgclf.best_estimator_\n",
    "rclf.fit(exTrain3000, y_train3000)"
   ]
  },
  {
   "cell_type": "code",
   "execution_count": 31,
   "metadata": {},
   "outputs": [
    {
     "data": {
      "image/png": "[encoded data removed]",
      "text/plain": [
       "<Figure size 720x504 with 2 Axes>"
      ]
     },
     "metadata": {
      "needs_background": "light"
     },
     "output_type": "display_data"
    },
    {
     "name": "stdout",
     "output_type": "stream",
     "text": [
      "              precision    recall  f1-score   support\n",
      "\n",
      "         0.0       0.75      0.83      0.79        70\n",
      "         1.0       0.72      0.70      0.71        92\n",
      "         2.0       0.92      0.84      0.88        95\n",
      "         3.0       0.74      0.75      0.75        73\n",
      "         4.0       0.89      0.92      0.91        73\n",
      "         5.0       0.75      0.87      0.81        70\n",
      "         6.0       0.90      0.72      0.80        83\n",
      "         7.0       0.86      0.86      0.86        83\n",
      "         8.0       0.83      0.92      0.87        79\n",
      "         9.0       0.73      0.71      0.72        82\n",
      "\n",
      "    accuracy                           0.81       800\n",
      "   macro avg       0.81      0.81      0.81       800\n",
      "weighted avg       0.81      0.81      0.81       800\n",
      "\n"
     ]
    }
   ],
   "source": [
    "y_testRF = rclf.predict(exTest1000)\n",
    "\n",
    "from sklearn.metrics import confusion_matrix, classification_report\n",
    "\n",
    "print_cmx(y_test1000, y_testRF)\n",
    "print(classification_report(y_test1000, y_testRF))"
   ]
  }
 ],
 "metadata": {
  "kernelspec": {
   "display_name": "Python 3",
   "language": "python",
   "name": "python3"
  },
  "language_info": {
   "codemirror_mode": {
    "name": "ipython",
    "version": 3
   },
   "file_extension": ".py",
   "mimetype": "text/x-python",
   "name": "python",
   "nbconvert_exporter": "python",
   "pygments_lexer": "ipython3",
   "version": "3.6.5"
  }
 },
 "nbformat": 4,
 "nbformat_minor": 2
}
